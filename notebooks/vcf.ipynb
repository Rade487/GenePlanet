{
 "cells": [
  {
   "cell_type": "code",
   "execution_count": 1,
   "metadata": {},
   "outputs": [],
   "source": [
    "import io\n",
    "import re\n",
    "import os\n",
    "import pandas as pd\n",
    "\n",
    "\n",
    "def read_vcf(path):\n",
    "    with open(path, 'r') as f:\n",
    "        lines = [l for l in f if not l.startswith('##')]\n",
    "    return pd.read_csv(\n",
    "        io.StringIO(''.join(lines)),\n",
    "        dtype={'#CHROM': str, 'POS': str, 'ID': str, 'REF': str, 'ALT': str,\n",
    "               'FORMAT': str},\n",
    "        sep='\\t',\n",
    "        nrows=100\n",
    "    ).rename(columns={'#CHROM': 'CHROM'})\n"
   ]
  },
  {
   "cell_type": "code",
   "execution_count": null,
   "metadata": {
    "pycharm": {
     "is_executing": true
    }
   },
   "outputs": [],
   "source": [
    "df = read_vcf('/Users/Milan/Downloads/hg37variants1000g.vcf')\n",
    "df.to_csv('//Users/Milan/Downloads/hg37variants1000g.csv')"
   ]
  },
  {
   "cell_type": "code",
   "execution_count": 3,
   "metadata": {},
   "outputs": [],
   "source": [
    "import re\n",
    "\n",
    "class CSVSpaceStripper:\n",
    "  def init(self, filename):\n",
    "    self.fh = open(filename, \"r\")\n",
    "    self.surroundingWhiteSpace = re.compile(\"\\s*;\\s*\")\n",
    "    self.leadingOrTrailingWhiteSpace = re.compile(\"^\\s*|\\s*$\")\n",
    "\n",
    "  def close(self):\n",
    "    self.fh.close()\n",
    "    self.fh = None\n",
    "\n",
    "  def iter(self):\n",
    "    return self\n",
    "\n",
    "  def next(self):\n",
    "    line = self.fh.next()\n",
    "    line = self.surroundingWhiteSpace.sub(\";\", line)\n",
    "    line = self.leadingOrTrailingWhiteSpace.sub(\"\", line)\n",
    "    return line"
   ]
  },
  {
   "cell_type": "code",
   "execution_count": 4,
   "metadata": {},
   "outputs": [
    {
     "ename": "TypeError",
     "evalue": "CSVSpaceStripper() takes no arguments",
     "output_type": "error",
     "traceback": [
      "\u001B[0;31m---------------------------------------------------------------------------\u001B[0m",
      "\u001B[0;31mTypeError\u001B[0m                                 Traceback (most recent call last)",
      "\u001B[0;32m/var/folders/1y/sgdzj89j3l5_t4tg0wv77k_80000gn/T/ipykernel_2282/4075480980.py\u001B[0m in \u001B[0;36m<module>\u001B[0;34m\u001B[0m\n\u001B[0;32m----> 1\u001B[0;31m \u001B[0mcsv\u001B[0m \u001B[0;34m=\u001B[0m \u001B[0mCSVSpaceStripper\u001B[0m\u001B[0;34m(\u001B[0m\u001B[0;34m'vcf_nospace.csv'\u001B[0m\u001B[0;34m)\u001B[0m\u001B[0;34m\u001B[0m\u001B[0;34m\u001B[0m\u001B[0m\n\u001B[0m",
      "\u001B[0;31mTypeError\u001B[0m: CSVSpaceStripper() takes no arguments"
     ]
    }
   ],
   "source": [
    "csv = CSVSpaceStripper('vcf_nospace.csv')"
   ]
  },
  {
   "cell_type": "code",
   "execution_count": 5,
   "metadata": {},
   "outputs": [],
   "source": [
    "def trim(dataset):\n",
    "    trim = lambda x: x.strip() if type(x) is str else x\n",
    "    return dataset.applymap(trim)"
   ]
  },
  {
   "cell_type": "code",
   "execution_count": 7,
   "metadata": {},
   "outputs": [],
   "source": [
    "dataset = trim(pd.read_csv('vcf_example.csv'))"
   ]
  },
  {
   "cell_type": "code",
   "execution_count": null,
   "metadata": {},
   "outputs": [],
   "source": [
    "dataset.to_csv"
   ]
  }
 ],
 "metadata": {
  "kernelspec": {
   "display_name": "Python 3 (ipykernel)",
   "language": "python",
   "name": "python3"
  },
  "language_info": {
   "codemirror_mode": {
    "name": "ipython",
    "version": 3
   },
   "file_extension": ".py",
   "mimetype": "text/x-python",
   "name": "python",
   "nbconvert_exporter": "python",
   "pygments_lexer": "ipython3",
   "version": "3.9.7"
  }
 },
 "nbformat": 4,
 "nbformat_minor": 1
}